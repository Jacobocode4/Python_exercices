{
 "cells": [
  {
   "cell_type": "markdown",
   "metadata": {},
   "source": [
    "## Ejercicio 1 - LISTAS\n",
    "Escribir un programa que almacene las asignaturas de un curso (por ejemplo Matemáticas, Física, Química, Historia y Lengua) en una lista y la muestre por pantalla."
   ]
  },
  {
   "cell_type": "code",
   "execution_count": 3,
   "metadata": {},
   "outputs": [
    {
     "name": "stdout",
     "output_type": "stream",
     "text": [
      "Se ingresaron los cursos con exito\n",
      "['Física', 'Química', 'Historia']\n"
     ]
    }
   ],
   "source": [
    "progr = []\n",
    "i = 0\n",
    "cantidad = len(progr)\n",
    "\n",
    "while cantidad <= i:\n",
    "  curso = str(input('Ingrese el curso y escriba Fin cuando haya terminado de ingresar los cursos: '))\n",
    "  if curso == 'Fin':\n",
    "    print('Se ingresaron los cursos con exito')\n",
    "    break\n",
    "  progr.append(curso)\n",
    "  i += 1\n",
    "\n",
    "print(progr)"
   ]
  },
  {
   "cell_type": "code",
   "execution_count": 5,
   "metadata": {},
   "outputs": [
    {
     "name": "stdout",
     "output_type": "stream",
     "text": [
      "Física\n",
      "Química\n",
      "Historia\n",
      "Matemáticas\n",
      "Lengua\n",
      "Deportes\n",
      "Ciencias Naturales\n"
     ]
    }
   ],
   "source": [
    "# Other way\n",
    "\n",
    "prog = []\n",
    "cantidad = int(input('Ingrese la cantidad de cursos que desee ingresar:'))\n",
    "\n",
    "for i in range(cantidad):\n",
    "  cursos = str(input('Ingrese el curso: '))\n",
    "  progr.append(cursos)\n",
    "\n",
    "for a in progr:\n",
    "  print(a)"
   ]
  },
  {
   "cell_type": "markdown",
   "metadata": {},
   "source": [
    "## Ejercicio 2 - LISTAS\n",
    "Escribir un programa que almacene las asignaturas de un curso (por ejemplo Matemáticas, Física, Química, Historia y Lengua) en una lista y la muestre por pantalla el mensaje:\n",
    "* Yo estudio **ASIGNATURA**, donde **ASIGNATURA** es cada una de las asignaturas de la lista."
   ]
  },
  {
   "cell_type": "code",
   "execution_count": 6,
   "metadata": {},
   "outputs": [
    {
     "name": "stdout",
     "output_type": "stream",
     "text": [
      "Se ingresaron los cursos con exito\n",
      "Yo estudio  Matemáticas\n",
      "Yo estudio  Inglés\n"
     ]
    }
   ],
   "source": [
    "progr = []\n",
    "a = 0\n",
    "i = 0\n",
    "cantidad = len(progr)\n",
    "\n",
    "while cantidad <= i:\n",
    "  curso = str(input('Ingrese el curso y escriba Fin cuando haya terminado de ingresar los cursos: '))\n",
    "  if curso == 'Fin':\n",
    "    print('Se ingresaron los cursos con exito')\n",
    "    break\n",
    "  progr.append(curso)\n",
    "  i += 1\n",
    "\n",
    "for a in progr:\n",
    "  print('Yo estudio ', a)\n"
   ]
  },
  {
   "cell_type": "markdown",
   "metadata": {},
   "source": [
    "## Ejercicio 3 - LISTAS\n",
    "Escribir un programa que almacene las asignaturas de un curso (por ejemplo Matemáticas, Física, Química, Historia y Lengua) en una lista, pregunte al usuario la nota que ha sacado en cada asignatura, y después las muestre por pantalla con el mensaje:\n",
    "* En **ASIGNATURA** has sacado **NOTA** donde **ASIGNATURA** es cada una des las asignaturas de la lista y **NOTA** cada una de las correspondientes notas introducidas por el usuario."
   ]
  },
  {
   "cell_type": "code",
   "execution_count": 9,
   "metadata": {},
   "outputs": [
    {
     "name": "stdout",
     "output_type": "stream",
     "text": [
      "En asignatura  Programación has sacado  5.0\n",
      "En asignatura  Artes has sacado  3.5\n",
      "En asignatura  Física has sacado  4.0\n"
     ]
    }
   ],
   "source": [
    "lstCurso = []\n",
    "cantidad = int(input('Ingrese la cantidad de cursos que desee ingresar: '))\n",
    "\n",
    "for i in range(cantidad):\n",
    "  curso = str(input('Ingrese el curso: '))\n",
    "  lstCurso.append(curso)\n",
    "\n",
    "lstNota = []\n",
    "for curso in lstCurso:\n",
    "  mensaje = f'Ingrese la nota del {curso}: '\n",
    "  nota = float(input(mensaje))\n",
    "  lstNota.append(nota)\n",
    "\n",
    "for i in range(len(lstCurso)):\n",
    "  print('En asignatura ', lstCurso[i], 'has sacado ', lstNota[i])"
   ]
  },
  {
   "cell_type": "markdown",
   "metadata": {},
   "source": [
    "# Ejercicio 1 - DICCIONARIO\n",
    "Escribir un programa que guarde en una variable el diccionario {'Euro':'€', 'Dollar':'$', 'Yen':'¥'}, pregunte al usuario por una divisa y muestre su símbolo o un mensaje de aviso si la divisa no está en el diccionario."
   ]
  },
  {
   "cell_type": "code",
   "execution_count": 10,
   "metadata": {},
   "outputs": [
    {
     "name": "stdout",
     "output_type": "stream",
     "text": [
      "El simbolo de la divisa es:  €\n",
      "El simbolo de la divisa es:  ¥\n",
      "El simbolo de la divisa es:  $\n"
     ]
    }
   ],
   "source": [
    "dicDivisas = {'Euro':'€', 'Dollar':'$', 'Yen':'¥'}\n",
    "\n",
    "for i in dicDivisas:\n",
    "  divisas = str(input('Inegrese la divisa: '))\n",
    "  if divisas == 'Euro':\n",
    "    print('El simbolo de la divisa es: ', dicDivisas['Euro'])\n",
    "  elif divisas == 'Dollar':\n",
    "    print('El simbolo de la divisa es: ', dicDivisas['Dollar'])\n",
    "  elif divisas == 'Yen':\n",
    "    print('El simbolo de la divisa es: ', dicDivisas['Yen'])\n",
    "  else:\n",
    "    print('La divisa no esta en el diccionario')\n"
   ]
  },
  {
   "cell_type": "code",
   "execution_count": 12,
   "metadata": {},
   "outputs": [
    {
     "name": "stdout",
     "output_type": "stream",
     "text": [
      "El simbolo de la divisa es:  ¥\n"
     ]
    }
   ],
   "source": [
    "dicDivisas = {'Euro':'€', 'Dollar':'$', 'Yen':'¥'}\n",
    "\n",
    "rpta = input('Ingrese divisa: ')\n",
    "\n",
    "if rpta in dicDivisas:\n",
    "  print('El simbolo de la divisa es: ', dicDivisas[rpta])\n",
    "else:\n",
    "  print('La divisa no se encuentra')"
   ]
  },
  {
   "cell_type": "markdown",
   "metadata": {},
   "source": [
    "## Ejercicio 2 - DICCIONARIO\n",
    "\n",
    "Escribir un programa que guarde en un diccionario los precios de las frutas de la tabla, pregunte al usuario por una fruta, un número de kilos y muestre por pantalla el precio de ese número de kilos de fruta. Si la fruta no está en el diccionario debe mostrar un mensaje informando de ello.\n",
    "\n",
    "| Fruta | Precio|\n",
    "|:-|:-:|\n",
    "|Plátano | 1.35 |\n",
    "|Manzana | 0.80|\n",
    "|Pera| 0.85|\n",
    "|Naranja | 0.70|"
   ]
  },
  {
   "cell_type": "code",
   "execution_count": 13,
   "metadata": {},
   "outputs": [
    {
     "name": "stdout",
     "output_type": "stream",
     "text": [
      "El precio de  Platano es:  5.4\n",
      "La fruta ingresada no esta disponible\n"
     ]
    }
   ],
   "source": [
    "dicFrutas = {'Platano': 1.35, 'Manzana': 0.80, 'Pera': 0.85, 'Naranja': 0.70}\n",
    "\n",
    "for i in dicFrutas:\n",
    "  nmbr = str(input('Ingrese el nombre de la fruta: '))\n",
    "  if nmbr in dicFrutas:\n",
    "    kilos = float(input('Ingrese la cantidad de kilos a comprar: '))\n",
    "    precio = kilos * dicFrutas[nmbr]\n",
    "    print('El precio de ', nmbr, 'es: ', precio)\n",
    "  else:\n",
    "    print('La fruta ingresada no esta disponible')\n",
    "    break"
   ]
  }
 ],
 "metadata": {
  "kernelspec": {
   "display_name": "Python 3",
   "language": "python",
   "name": "python3"
  },
  "language_info": {
   "codemirror_mode": {
    "name": "ipython",
    "version": 3
   },
   "file_extension": ".py",
   "mimetype": "text/x-python",
   "name": "python",
   "nbconvert_exporter": "python",
   "pygments_lexer": "ipython3",
   "version": "3.11.5"
  }
 },
 "nbformat": 4,
 "nbformat_minor": 2
}
