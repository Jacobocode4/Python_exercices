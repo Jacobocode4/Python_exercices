{
 "cells": [
  {
   "cell_type": "markdown",
   "metadata": {},
   "source": [
    "## Ejercicio 1 - CADENAS\n",
    "* Dado una cadena de con el siguiente formato de hora: hhmmss (18:24:50)\n",
    "* Convertir a formato DATETIME\n",
    "* mostrar el siguiente mensaje : “Son las 18h:24min:50seg”"
   ]
  },
  {
   "cell_type": "code",
   "execution_count": 2,
   "metadata": {},
   "outputs": [],
   "source": [
    "hora = '18:24:50'"
   ]
  },
  {
   "cell_type": "code",
   "execution_count": 5,
   "metadata": {},
   "outputs": [
    {
     "name": "stdout",
     "output_type": "stream",
     "text": [
      "Son las 18h:24min:50seg\n",
      "Son las 18h:24min:50seg\n"
     ]
    }
   ],
   "source": [
    "h = hora[:2]\n",
    "m = hora[3:5]\n",
    "s = hora[6:]\n",
    "\n",
    "print('Son las '+ h +'h:'+ m +'min:' + s +'seg')\n",
    "# Other way\n",
    "mensaje = f'Son las {h}h:{m}min:{s}seg'\n",
    "print(mensaje)"
   ]
  },
  {
   "cell_type": "code",
   "execution_count": 6,
   "metadata": {},
   "outputs": [
    {
     "name": "stdout",
     "output_type": "stream",
     "text": [
      "Son las 18h:24min:50seg\n"
     ]
    }
   ],
   "source": [
    "#Other way\n",
    "\n",
    "import datetime as dt\n",
    "\n",
    "horaC = dt.datetime.strptime(hora, '%H:%M:%S')\n",
    "\n",
    "hr = horaC.hour\n",
    "min = horaC.minute\n",
    "sg = horaC.second\n",
    "\n",
    "mensaje = f'Son las {hr}h:{min}min:{sg}seg'\n",
    "print(mensaje)"
   ]
  },
  {
   "cell_type": "markdown",
   "metadata": {},
   "source": [
    "## Ejercicio 2 - CADENAS\n",
    "\n",
    "Escribir un programa que pregunte el nombre completo del usuario en la consola e imprima en formato donde la primera letra es mayúscula y los demás minúscula.\n",
    "> Ejemplo:\n",
    "* nombre ingresado: jimmy farfan\n",
    "* outPut: Jimmy Farfán"
   ]
  },
  {
   "cell_type": "code",
   "execution_count": 8,
   "metadata": {},
   "outputs": [
    {
     "name": "stdout",
     "output_type": "stream",
     "text": [
      "jacobo murillo\n",
      "El nombre formateado es:  Jacobo Murillo\n"
     ]
    }
   ],
   "source": [
    "nombre = str(input('Ingrese su nombre: '))\n",
    "n = nombre.title()\n",
    "print(nombre)\n",
    "print('El nombre formateado es: ', n)"
   ]
  },
  {
   "cell_type": "markdown",
   "metadata": {},
   "source": [
    "## Ejercicio 3 - CONDICIONALES\n",
    "\n",
    "En una oficina de empleos categorizan a los postulantes en función del sexo y de la edad de acuerdo con lo siguiente:\n",
    "* Si la persona es de sexo femenino: categoría FA si tiene menos de 23 años y FB, en caso contrario.\n",
    "* Si la persona es de sexo masculino: categoría MA si tiene menos de 25 años y MB, en caso contrario. Dado el sexo y la edad de un postulante, diseñe un programa que determine su categoría."
   ]
  },
  {
   "cell_type": "code",
   "execution_count": 1,
   "metadata": {},
   "outputs": [
    {
     "name": "stdout",
     "output_type": "stream",
     "text": [
      "Categoria MA\n",
      "Genero: M | Edad: 23\n"
     ]
    }
   ],
   "source": [
    "genero = str(input('Ingrese su genero (M o F): '))\n",
    "edad = int(input('Ingrese su edad: '))\n",
    "\n",
    "if genero == 'F' and edad < 23: # o if (genero == 'F') & (edad < 23):\n",
    "  print('Categoria FA')\n",
    "elif genero == 'F' and edad >= 23:\n",
    "  print('Categoria FB')\n",
    "elif genero == 'M' and edad < 25:\n",
    "  print('Categoria MA')\n",
    "elif genero == 'M' and edad >= 25:\n",
    "  print('Categoria MB')\n",
    "\n",
    "print('Genero:', genero, '| Edad:', edad)"
   ]
  },
  {
   "cell_type": "code",
   "execution_count": 2,
   "metadata": {},
   "outputs": [
    {
     "name": "stdout",
     "output_type": "stream",
     "text": [
      "Genero: M | Edad: 23\n",
      "Tu categoria es:  MA\n"
     ]
    }
   ],
   "source": [
    "# Other way\n",
    "\n",
    "genero = str(input('Ingrese su genero (M o F): '))\n",
    "edad = int(input('Ingrese su edad: '))\n",
    "\n",
    "if genero == 'F':\n",
    "  if edad < 23:\n",
    "    categoria = 'FA'\n",
    "  else:\n",
    "    categoria = 'FB'\n",
    "else:\n",
    "  if edad < 25:\n",
    "    categoria = 'MA'\n",
    "  else:\n",
    "    categoria = 'MB'\n",
    "\n",
    "print('Genero:', genero, '| Edad:', edad)\n",
    "print('Tu categoria es: ', categoria)"
   ]
  },
  {
   "cell_type": "markdown",
   "metadata": {},
   "source": [
    "## Ejercicio 4 - CONDICIONALES\n",
    "\n",
    "Una tienda vende un producto a precios unitarios que dependen de la cantidad de unidades adquiridas de acuerdo a la tabla adjunta:\n",
    "\n",
    "* Adicionalmente, si el cliente adquiere más de 50 unidades la tienda le descuenta el 15% del importe de la compra; en caso contrario, sólo le descuenta el 5% del importe compra.\n",
    "* Diseñe un programa que determine el importe de la compra, el importe del descuento y el importe a pagar por la compra de cierta cantidad de unidades del producto."
   ]
  },
  {
   "cell_type": "code",
   "execution_count": 4,
   "metadata": {},
   "outputs": [
    {
     "name": "stdout",
     "output_type": "stream",
     "text": [
      "Cantidad de productos:  70.0\n",
      "Importe de la compra:  1645.0\n",
      "Importe del descuento:  246.75\n",
      "Importe a pagar:  1398.25\n"
     ]
    }
   ],
   "source": [
    "compra = float(input('Ingrese la cantidad de productos comprados: '))\n",
    "\n",
    "if 1 <= compra <= 25:\n",
    "  p = 27.7\n",
    "elif 25 < compra <= 50:\n",
    "  p = 25.5\n",
    "elif 51 <= compra <= 75:\n",
    "  p = 23.5\n",
    "elif compra > 75:\n",
    "  p = 21.5\n",
    "\n",
    "if 1 <= compra <=50:\n",
    "  desc = 0.05\n",
    "elif compra > 50:\n",
    "  desc = 0.15\n",
    "\n",
    "imporC = compra * p\n",
    "imporD = imporC * desc\n",
    "imporP = imporC - imporD\n",
    "\n",
    "print('Cantidad de productos: ', compra)\n",
    "print('Importe de la compra: ', imporC)\n",
    "print('Importe del descuento: ', imporD)\n",
    "print('Importe a pagar: ', imporP)"
   ]
  },
  {
   "cell_type": "code",
   "execution_count": 5,
   "metadata": {},
   "outputs": [
    {
     "name": "stdout",
     "output_type": "stream",
     "text": [
      "Cantidad de productos:  60.0\n",
      "Precio de producto: 2.0\n",
      "Importe de la compra:  120.0\n",
      "Importe del descuento:  18.0\n",
      "Importe a pagar:  102.0\n"
     ]
    }
   ],
   "source": [
    "# Other way\n",
    "\n",
    "compra = float(input('Ingrese la cantidad de productos comprados: '))\n",
    "precio = float(input('Ingrese el precio del producto en USD: '))\n",
    "precio_f = float(compra * precio)\n",
    "\n",
    "if compra > 50:\n",
    "  fd = precio_f - precio_f * 0.15\n",
    "  d = precio_f * 0.15\n",
    "  print('Cantidad de productos: ', compra)\n",
    "  print('Precio de producto:', precio)\n",
    "  print('Importe de la compra: ', precio_f)\n",
    "  print('Importe del descuento: ', d)\n",
    "  print('Importe a pagar: ', fd)\n",
    "elif compra <= 50:\n",
    "  f = precio_f - precio_f * 0.05\n",
    "  dm = precio_f * 0.05\n",
    "  print('Cantidad de productos: ', compra)\n",
    "  print('Precio de producto:', precio)\n",
    "  print('Importe de la compra: ', precio_f)\n",
    "  print('Importe del descuento: ', dm)\n",
    "  print('Importe a pagar: ', f)\n"
   ]
  },
  {
   "cell_type": "markdown",
   "metadata": {},
   "source": [
    "## Ejercicio 5 - Bucles\n",
    "\n",
    "Calcular el sueldo promedio:\n",
    "\n",
    "1. Ingresa la cantidad de sueldo a promediar\n",
    "2. Ingresar los sueldos\n",
    "3. Calcular el promedio de los sueldo."
   ]
  },
  {
   "cell_type": "code",
   "execution_count": 8,
   "metadata": {},
   "outputs": [
    {
     "name": "stdout",
     "output_type": "stream",
     "text": [
      "Se ha ejecutado con exito\n",
      "El promedio de los sueldos es:  1333.3333333333333\n"
     ]
    }
   ],
   "source": [
    "cantidad = int(input('Ingrese la cantidad de sueldos a promediar: '))\n",
    "# contador\n",
    "i = 1\n",
    "# acumulador\n",
    "sueldoSuma = 0\n",
    "\n",
    "while i <= cantidad:\n",
    "  sueldos = float(input('Ingrese el valor del sueldo: '))\n",
    "  if sueldos <= 0:\n",
    "    print('Dato no valido, ingrese el valor de nuevo')\n",
    "    continue\n",
    "  sueldoSuma = sueldoSuma + sueldos   #sueldoSuma += sueldos\n",
    "  i += 1\n",
    "else:\n",
    "  print('Se ha ejecutado con exito')\n",
    "\n",
    "prom = sueldoSuma / (i - 1)     #prom = sueldoSuma / cantidad\n",
    "print('El promedio de los sueldos es: ', prom)"
   ]
  },
  {
   "cell_type": "code",
   "execution_count": 9,
   "metadata": {},
   "outputs": [
    {
     "name": "stdout",
     "output_type": "stream",
     "text": [
      "El promedio de los sueldos es:  3725.0\n"
     ]
    }
   ],
   "source": [
    "# Other way\n",
    "\n",
    "cantidad = int(input('Ingrese la cantidad de sueldos a promediar: '))\n",
    "sueldoSuma = 0\n",
    "\n",
    "for i in range(cantidad):\n",
    "  m = f'Ingrese el sueldo {i+1}:'\n",
    "  sueldos = int(input(m))\n",
    "  if sueldos < 0:\n",
    "    print('Dato no valido, vuelvalo a intentar')\n",
    "    break\n",
    "  sueldoSuma += sueldos\n",
    "else:\n",
    "  prom = sueldoSuma / cantidad\n",
    "  print('El promedio de los sueldos es: ', prom)\n"
   ]
  },
  {
   "cell_type": "markdown",
   "metadata": {},
   "source": [
    "## Ejercicio 6 - CADENAS\n",
    "\n",
    "Escribir un programa que pregunte el nombre completo del usuario en la consola y después muestre por pantalla el nombre completo del usuario tres veces, una con todas las letras minúsculas, otra con todas las letras mayúsculas y otra solo con la primera letra del nombre y de los apellidos en mayúscula. El usuario puede introducir su nombre combinando mayúsculas y minúsculas como quiera."
   ]
  },
  {
   "cell_type": "code",
   "execution_count": 10,
   "metadata": {},
   "outputs": [
    {
     "name": "stdout",
     "output_type": "stream",
     "text": [
      "AlejaDRO TOrrES hinCApiE\n",
      "alejadro torres hincapie\n",
      "ALEJADRO TORRES HINCAPIE\n",
      "Alejadro Torres Hincapie\n"
     ]
    }
   ],
   "source": [
    "nmb = str(input('Ingrese su nombre completo: '))\n",
    "n1 = nmb.lower()\n",
    "n2 = nmb.upper()\n",
    "n3 = nmb.title()\n",
    "\n",
    "print(nmb)\n",
    "print(n1)\n",
    "print(n2)\n",
    "print(n3)\n"
   ]
  },
  {
   "cell_type": "markdown",
   "metadata": {},
   "source": [
    "## Ejercicio 7 - CONDICIONALES\n",
    "\n",
    "Escribir un programa que pida al usuario dos números y muestre por pantalla su división. Si el divisor es cero el programa debe mostrar un error."
   ]
  },
  {
   "cell_type": "code",
   "execution_count": 16,
   "metadata": {},
   "outputs": [
    {
     "name": "stdout",
     "output_type": "stream",
     "text": [
      "Dividendo: 5\n",
      "Divisor: 8\n",
      "Division =  0.625\n"
     ]
    }
   ],
   "source": [
    "num1 = int(input('Ingrese un número: '))\n",
    "num2 = int(input('Ingrese un número: '))\n",
    "\n",
    "if num2 == 0:\n",
    "  print('Divisor = 0')\n",
    "  print('Error')\n",
    "else:\n",
    "  div = num1 / num2\n",
    "  print('Dividendo:', num1)\n",
    "  print('Divisor:', num2)\n",
    "  print('Division = ', round(div, 3))"
   ]
  },
  {
   "cell_type": "markdown",
   "metadata": {},
   "source": [
    "## Ejercicio 8 - CONDICIONALES\n",
    "\n",
    "Escribir un programa que pida al usuario un número entero y muestre por pantalla si es par o impar."
   ]
  },
  {
   "cell_type": "code",
   "execution_count": 12,
   "metadata": {},
   "outputs": [
    {
     "name": "stdout",
     "output_type": "stream",
     "text": [
      "Numero:  5\n",
      "El numero es impar\n"
     ]
    }
   ],
   "source": [
    "num_ent = int(input('Ingrese un numero entero: '))\n",
    "\n",
    "if num_ent % 2 == 0:\n",
    "  print('Numero: ', num_ent)\n",
    "  print('El numero es par')\n",
    "else:\n",
    "  print('Numero: ', num_ent)\n",
    "  print('El numero es impar')"
   ]
  },
  {
   "cell_type": "markdown",
   "metadata": {},
   "source": [
    "# Ejercicio 9 - CONDICIONALES\n",
    "\n",
    "Para tributar un determinado impuesto se debe ser mayor de 16 años y tener unos ingresos iguales o superiores a 1000 € mensuales. Escribir un programa que pregunte al usuario su edad y sus ingresos mensuales y muestre por pantalla si el usuario tiene que tributar o no."
   ]
  },
  {
   "cell_type": "code",
   "execution_count": 17,
   "metadata": {},
   "outputs": [
    {
     "name": "stdout",
     "output_type": "stream",
     "text": [
      "El ususario no debe tributar\n"
     ]
    }
   ],
   "source": [
    "edad1 = int(input('Ingrese su edad: '))\n",
    "ingresos = float(input('Ingrese sus ingresos mensuales: '))\n",
    "\n",
    "if edad1 > 16 and ingresos >= 1000:\n",
    "  print('El usuario debe tributar')\n",
    "else:\n",
    "  print('El ususario no debe tributar')"
   ]
  },
  {
   "cell_type": "markdown",
   "metadata": {},
   "source": [
    "## Ejercicio 10 - CONDICIONALES\n",
    "\n",
    "Los tramos impositivos para la declaración de la renta en un determinado país son los siguientes:\n",
    "\n",
    "|         Renta          | Tipo impositivo |\n",
    "| :--------------------: | :-------------: |\n",
    "|    Menos de 10000€     |       5%        |\n",
    "| Entre 10000€ y 20000€  |       15%       |\n",
    "| Entre 20001€ y 35000€  |       20%       |\n",
    "| Entre 35001€ y 60000€  |       30%       |\n",
    "|     Más de 60000€      |       45%       |\n",
    "\n",
    "Escribir un programa que pregunte al usuario su renta anual y muestre por pantalla lo que tiene que pagar."
   ]
  },
  {
   "cell_type": "code",
   "execution_count": 19,
   "metadata": {},
   "outputs": [
    {
     "name": "stdout",
     "output_type": "stream",
     "text": [
      "El valor a pagar de la declaración es:  165150.0\n",
      "Renta anual: 367000.0\n"
     ]
    }
   ],
   "source": [
    "rent = float(input('Ingrese su renta anual: '))\n",
    "\n",
    "if rent < 10000:\n",
    "  pago = rent * 0.05\n",
    "  print('El valor a pagar de la declaración es: ', pago)\n",
    "elif 10000 <= rent <= 20000:\n",
    "  pago = rent * 0.15\n",
    "  print('El valor a pagar de la declaración es: ', pago)\n",
    "elif 20000 < rent <= 35000:\n",
    "  pago = rent * 0.2\n",
    "  print('El valor a pagar de la declaración es: ', pago)\n",
    "elif 35000 < rent <= 60000:\n",
    "  pago = rent * 0.3\n",
    "  print('El valor a pagar de la declaración es: ', pago)\n",
    "elif 60000 < rent:\n",
    "  pago = rent * 0.45\n",
    "  print('El valor a pagar de la declaración es: ', pago)\n",
    "\n",
    "print('Renta anual:', rent)"
   ]
  }
 ],
 "metadata": {
  "kernelspec": {
   "display_name": "Python 3",
   "language": "python",
   "name": "python3"
  },
  "language_info": {
   "codemirror_mode": {
    "name": "ipython",
    "version": 3
   },
   "file_extension": ".py",
   "mimetype": "text/x-python",
   "name": "python",
   "nbconvert_exporter": "python",
   "pygments_lexer": "ipython3",
   "version": "3.11.5"
  }
 },
 "nbformat": 4,
 "nbformat_minor": 2
}
