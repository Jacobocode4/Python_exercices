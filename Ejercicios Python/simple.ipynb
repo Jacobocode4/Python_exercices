{
 "cells": [
  {
   "cell_type": "markdown",
   "metadata": {},
   "source": [
    "## Ejercicio 1\n",
    "Diseñe un programa que determine la Superficie (S) y el Perímetro (P) de un círculo del que se conoce  su radio (r) . Considere las siguientes fórmulas: S=2𝜋𝑟 y P=𝜋 𝑟"
   ]
  },
  {
   "cell_type": "code",
   "execution_count": 2,
   "metadata": {},
   "outputs": [
    {
     "name": "stdout",
     "output_type": "stream",
     "text": [
      "La superfice es 21.36\n",
      "El perimetro es 10.68\n"
     ]
    }
   ],
   "source": [
    "import numpy as np\n",
    "npi = np.pi\n",
    "r = float(input('Ingrese el radio: '))\n",
    "S = 2*npi*r\n",
    "P = 3.14*r\n",
    "print('La superfice es',round(S,2))\n",
    "print('El perimetro es',round(P,2))"
   ]
  },
  {
   "cell_type": "markdown",
   "metadata": {},
   "source": [
    "## Ejercicio 2\n",
    "\n",
    "Escribir un PROGRAMA EN PYTHON de un programa que permita leer el peso de una persona, calcule el IMC y posteriormente imprimirla.\n",
    "* Fórmula: IMC = Peso/(Estatura x Estatura)"
   ]
  },
  {
   "cell_type": "code",
   "execution_count": 3,
   "metadata": {},
   "outputs": [
    {
     "name": "stdout",
     "output_type": "stream",
     "text": [
      "24.251278305332356\n"
     ]
    }
   ],
   "source": [
    "P = float(input('Ingrese su peso en kg: '))\n",
    "E = float(input('Ingrese su altura en cm: '))\n",
    "IMC = P / (E * E)\n",
    "print(IMC)"
   ]
  },
  {
   "cell_type": "markdown",
   "metadata": {},
   "source": [
    "## Ejercicio 3\n",
    "Determinar la frecuencia cardiaca. El usuario debe proporcionarte su edad y su peso.\n",
    "* Formula: freq = 210 - 0.5 x edad - (0.01 x peso + 4)\n"
   ]
  },
  {
   "cell_type": "code",
   "execution_count": 4,
   "metadata": {},
   "outputs": [
    {
     "name": "stdout",
     "output_type": "stream",
     "text": [
      "Su frecuencia cardiaca es:  207.585\n"
     ]
    }
   ],
   "source": [
    "edad = int(input('Ingrese su edad: '))\n",
    "peso = int(input('Ingrese su peso en kg: '))\n",
    "F = 210 - 0.5 * (0.01 * P + 4)\n",
    "print('Su frecuencia cardiaca es: ', F)"
   ]
  },
  {
   "cell_type": "markdown",
   "metadata": {},
   "source": [
    "## Ejercicio 4\n",
    "\n",
    "Hacer un formulario para registrar sus nombres, apellidos, fecha de nacimiento, su nota parcial y nota final. Una vez registrado sus datos mostrar en pantalla que se ha registrado con éxitos sus datos y la edad del participante y su promedio de notas.\n"
   ]
  },
  {
   "cell_type": "code",
   "execution_count": 6,
   "metadata": {},
   "outputs": [
    {
     "name": "stdout",
     "output_type": "stream",
     "text": [
      "La edad del participante es:  23\n",
      "El promedio del paticipante es: 4.25\n"
     ]
    }
   ],
   "source": [
    "import datetime as dt\n",
    "import numpy as np\n",
    "\n",
    "nombres = str(input('Escriba sus nombres: '))\n",
    "apellidos = str(input('Escriba sus apellidos: '))\n",
    "year = int(input('Escriba su año de nacimiento: '))\n",
    "mes = int(input('Escriba su mes de nacimiento en #: '))\n",
    "dia = int(input('Escriba su día de nacimiento: '))\n",
    "nota_p = float(input('Ingrese su nota parcial: '))\n",
    "nota_f = float(input('Ingrese su nota final: '))\n",
    "\n",
    "#calcular edad\n",
    "f_nac = dt.date(year,mes,dia)\n",
    "f_act = dt.date.today()\n",
    "f_dif = f_act - f_nac\n",
    "edad = f_dif.days//365\n",
    "\n",
    "#cacular promedio de notas\n",
    "prom = (nota_p + nota_f) / 2\n",
    "\n",
    "print('La edad del participante es: ', edad)\n",
    "print('El promedio del paticipante es:', prom)"
   ]
  }
 ],
 "metadata": {
  "kernelspec": {
   "display_name": "Python 3",
   "language": "python",
   "name": "python3"
  },
  "language_info": {
   "codemirror_mode": {
    "name": "ipython",
    "version": 3
   },
   "file_extension": ".py",
   "mimetype": "text/x-python",
   "name": "python",
   "nbconvert_exporter": "python",
   "pygments_lexer": "ipython3",
   "version": "3.11.5"
  }
 },
 "nbformat": 4,
 "nbformat_minor": 2
}
