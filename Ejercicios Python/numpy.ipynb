{
 "cells": [
  {
   "cell_type": "markdown",
   "metadata": {},
   "source": [
    "## Ejercicio 1\n",
    "\n",
    "* Crear un array Numpy con números enteros\n",
    "* Crear un array Numpy con números flotantes\n"
   ]
  },
  {
   "cell_type": "code",
   "execution_count": 1,
   "metadata": {},
   "outputs": [
    {
     "name": "stdout",
     "output_type": "stream",
     "text": [
      "[  1   2   5   7   8  11  24  26 120]\n",
      "[ 0.3  0.9  1.2  4.4  5.6  7.8 10.1]\n"
     ]
    }
   ],
   "source": [
    "import numpy as np\n",
    "\n",
    "ent = np.array([1,2,5,7,8,11,24,26,120])\n",
    "flt = np.array([0.3,0.9,1.2,4.4,5.6,7.8,10.1])\n",
    "\n",
    "print(ent)\n",
    "print(flt)"
   ]
  },
  {
   "cell_type": "markdown",
   "metadata": {},
   "source": [
    "## Ejercicio 2\n",
    "\n",
    "Dado el siguiente arreglo:\n",
    "* array = np.array([1, 2, 3, 4, 5, 6, 7, 8, 9, 10])\n",
    "\n",
    "Se pide:\n",
    "* Obtener el tercer elemento\n",
    "* Seleccionar los elementos del array con valores impares"
   ]
  },
  {
   "cell_type": "code",
   "execution_count": 2,
   "metadata": {},
   "outputs": [
    {
     "name": "stdout",
     "output_type": "stream",
     "text": [
      "3\n",
      "[1 3 5 7 9]\n"
     ]
    }
   ],
   "source": [
    "import numpy as np\n",
    "\n",
    "array = np.array([1, 2, 3, 4, 5, 6, 7, 8, 9, 10])\n",
    "\n",
    "ele_3 = array[2]\n",
    "ele_imp = array[(array % 2 != 0)]\n",
    "\n",
    "print(ele_3)\n",
    "print(ele_imp)"
   ]
  },
  {
   "cell_type": "markdown",
   "metadata": {},
   "source": [
    "## Ejercicio 3\n",
    "\n",
    "Para un conjunto determinado de notas (Leer de consola) implementar un algoritmo para determinar el máximo, min y prom, luego de registrar las nota."
   ]
  },
  {
   "cell_type": "code",
   "execution_count": 6,
   "metadata": {},
   "outputs": [
    {
     "name": "stdout",
     "output_type": "stream",
     "text": [
      "Cantidad de notas: 3\n",
      "Máximo:  5.0\n",
      "Minima:  3.0\n",
      "Promedio:  4.33\n"
     ]
    }
   ],
   "source": [
    "import numpy as np\n",
    "#Objetivo: Max, min, prom?\n",
    "\n",
    "cantNotas = int(input('Ingrese cantidad de notas: '))\n",
    "\n",
    "#Leer notas, Guardelo en un arreglo\n",
    "arrNotas = np.zeros(cantNotas)\n",
    "#array([0,0,0,0])\n",
    "\n",
    "for i in range(cantNotas):\n",
    "  nota = float(input('Ingrese nota: '))\n",
    "  arrNotas[i] = nota\n",
    "\n",
    "#Mostrar resultados\n",
    "maxNota = np.max(arrNotas)\n",
    "minNota = np.min(arrNotas)\n",
    "prom = np.mean(arrNotas)\n",
    "\n",
    "print('Cantidad de notas:', cantNotas)\n",
    "print(\"Máximo: \", maxNota)\n",
    "print('Minima: ', minNota)\n",
    "print('Promedio: ', round(prom, 2))"
   ]
  }
 ],
 "metadata": {
  "kernelspec": {
   "display_name": "Python 3",
   "language": "python",
   "name": "python3"
  },
  "language_info": {
   "codemirror_mode": {
    "name": "ipython",
    "version": 3
   },
   "file_extension": ".py",
   "mimetype": "text/x-python",
   "name": "python",
   "nbconvert_exporter": "python",
   "pygments_lexer": "ipython3",
   "version": "3.11.5"
  }
 },
 "nbformat": 4,
 "nbformat_minor": 2
}
